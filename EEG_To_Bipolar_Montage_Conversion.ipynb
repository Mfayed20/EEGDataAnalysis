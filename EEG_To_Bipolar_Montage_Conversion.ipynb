{
 "cells": [
  {
   "cell_type": "markdown",
   "id": "628513c6",
   "metadata": {},
   "source": [
    "# EEG to Bipolar Montage\n",
    "This notebook is designed to process EEG data by converting it from a referential montage to a bipolar montage.\n",
    "\n",
    "\n",
    "## Importing Necessary Libraries\n",
    "Here we import the necessary Python libraries for handling EEG data, numerical operations, and utility functions for analysis.\n"
   ]
  },
  {
   "cell_type": "code",
   "execution_count": 1,
   "id": "840c82f2",
   "metadata": {},
   "outputs": [],
   "source": [
    "import mne\n",
    "import EEG_Analysis_Utility_Functions as eeg_util\n"
   ]
  },
  {
   "cell_type": "markdown",
   "id": "1bd320de",
   "metadata": {},
   "source": [
    "## Load EDF File\n",
    "Load the raw EDF file to process EEG data.\n",
    "\n"
   ]
  },
  {
   "cell_type": "code",
   "execution_count": 2,
   "id": "e4173317",
   "metadata": {},
   "outputs": [
    {
     "name": "stdout",
     "output_type": "stream",
     "text": [
      "Extracting EDF parameters from e:\\KFSH_Internship\\_projects\\diff_projects\\semiology\\sz4_5&7_8\\laugh_6\\10s_buffer_smiling_6_data.edf...\n",
      "EDF file detected\n",
      "Setting channel info structure...\n",
      "Creating raw.info structure...\n",
      "Total channels in original data: 212\n"
     ]
    }
   ],
   "source": [
    "source_edf_path = '<path_to_your_source_edf_file>'  # Path to the original EDF file\n",
    "target_edf_path = '<path_to_your_target_edf_file>'  # Path for the processed EDF file to be created\n",
    "\n",
    "# Load the EDF file\n",
    "raw_eeg = mne.io.read_raw_edf(source_edf_path, preload=False)\n",
    "print(f\"Total channels in original data: {len(raw_eeg.ch_names)}\")\n"
   ]
  },
  {
   "cell_type": "markdown",
   "id": "4490ea5c",
   "metadata": {},
   "source": [
    "## Channel Selection and Removal\n",
    "Identify and remove channels that are not needed for further analysis.\n",
    "The specified channels to be removed are selected manually in the presence of a Physician.\n",
    "\n"
   ]
  },
  {
   "cell_type": "code",
   "execution_count": 3,
   "id": "e1030d2a",
   "metadata": {},
   "outputs": [],
   "source": [
    "channels_to_exclude = ['A10-Ref1', 'T7-Ref1', 'T8-Ref1', 'T9-Ref1', 'T10-Ref1', 'T11-Ref1', 'T12-Ref1', 'X10-Ref1', 'X11-Ref1', 'X12-Ref1', 'Q8-Ref1', 'Q9-Ref1', 'Q10-Ref1', 'M8-Ref1',  'M9-Ref1', 'M10-Ref1', 'M11-Ref1', 'M12-Ref1', \"R'9-Ref1\", \"R'10-Ref1\", \"Q'10-Ref1\", \"M'6-Ref1\", \"M'7-Ref1\", \"M'8-Ref1\", \"M'9-Ref1\", \"M'10-Ref1\"]\n",
    "channels_with_artifacts = ['C7-Ref1',  \"M'4-Ref1\", \"M'5-Ref1\", \"C'7-Ref1\"]\n",
    "redundant_channels = ['1A-1R', '2A-2R', '3A-3R', '4A-4R']\n",
    "\n",
    "all_channels_to_remove = channels_to_exclude + channels_with_artifacts + redundant_channels\n",
    "\n",
    "# Remove specified channels\n",
    "eeg_data_cleaned = eeg_util.removeSelectedChannels(raw_eeg, all_channels_to_remove)\n"
   ]
  },
  {
   "cell_type": "markdown",
   "id": "6201a1e1",
   "metadata": {},
   "source": [
    "## Bipolar Montage Conversion\n",
    "Convert the EEG data to a bipolar montage and save the processed data to a new EDF file.\n",
    "\n"
   ]
  },
  {
   "cell_type": "code",
   "execution_count": 4,
   "id": "1463890f",
   "metadata": {},
   "outputs": [
    {
     "name": "stdout",
     "output_type": "stream",
     "text": [
      "Creating RawArray with float64 data, n_channels=157, n_times=21000\n",
      "    Range : 0 ... 20999 =      0.000 ...    20.999 secs\n",
      "Ready.\n",
      "Overwriting existing file.\n"
     ]
    }
   ],
   "source": [
    "# Generate bipolar channels\n",
    "channels_remaining = eeg_data_cleaned.ch_names\n",
    "bipolar_pairs = eeg_util.groupAndCreateBipolarChannels(channels_remaining)\n",
    "\n",
    "# Create bipolar montage data\n",
    "bipolar_eeg = eeg_util.generateBipolarChannelData(eeg_data_cleaned, bipolar_pairs)\n",
    "\n",
    "# Save the bipolar montage data to a new EDF file\n",
    "mne.export.export_raw(target_edf_path, bipolar_eeg, fmt='edf', overwrite=True)\n"
   ]
  },
  {
   "cell_type": "markdown",
   "id": "3dfc9a67",
   "metadata": {},
   "source": [
    "## Load and Verify Processed Data\n",
    "Load the processed EDF file to verify the changes.\n",
    "\n"
   ]
  },
  {
   "cell_type": "code",
   "execution_count": 5,
   "id": "9e0bed1c",
   "metadata": {},
   "outputs": [
    {
     "name": "stdout",
     "output_type": "stream",
     "text": [
      "Extracting EDF parameters from e:\\KFSH_Internship\\_projects\\diff_projects\\semiology\\sz4_5&7_8\\laugh_6\\bipolar_10s_buffer_smiling_6_data.edf...\n",
      "EDF file detected\n",
      "Setting channel info structure...\n",
      "Creating raw.info structure...\n",
      "Total channels in processed data: 157\n"
     ]
    }
   ],
   "source": [
    "# Load the processed EDF file\n",
    "processed_eeg_data = mne.io.read_raw_edf(target_edf_path, preload=False)\n",
    "print(f\"Total channels in processed data: {len(processed_eeg_data.ch_names)}\")\n"
   ]
  }
 ],
 "metadata": {
  "kernelspec": {
   "display_name": "Python 3",
   "language": "python",
   "name": "python3"
  },
  "language_info": {
   "codemirror_mode": {
    "name": "ipython",
    "version": 3
   },
   "file_extension": ".py",
   "mimetype": "text/x-python",
   "name": "python",
   "nbconvert_exporter": "python",
   "pygments_lexer": "ipython3",
   "version": "3.12.1"
  }
 },
 "nbformat": 4,
 "nbformat_minor": 5
}
