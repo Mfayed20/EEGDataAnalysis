{
 "cells": [
  {
   "cell_type": "markdown",
   "id": "dbce901f",
   "metadata": {},
   "source": [
    "# EEG Annotation Extraction and Segment Saving\n",
    "This notebook illustrates how to extract particular annotations, identified by their description name, from EEG data into an EDF file, including an optional buffer period. It also covers the extraction of a specific segment, defined by its start and end time, into an EDF file.\n",
    "\n",
    "## Import Libraries\n"
   ]
  },
  {
   "cell_type": "code",
   "execution_count": 1,
   "id": "b4ba23f1",
   "metadata": {},
   "outputs": [],
   "source": [
    "import mne\n",
    "import EEG_Analysis_Utility_Functions as eeg_util\n"
   ]
  },
  {
   "cell_type": "markdown",
   "id": "ab48d774",
   "metadata": {},
   "source": [
    "## Load EEG Data\n"
   ]
  },
  {
   "cell_type": "code",
   "execution_count": 2,
   "id": "288e0b89",
   "metadata": {},
   "outputs": [
    {
     "name": "stdout",
     "output_type": "stream",
     "text": [
      "Extracting EDF parameters from e:\\KFSH_Internship\\KFSHRC_files\\Sulaiman\\Sulaiman Seizures SEEG\\Sulaiman SEEG seizure 7 and 8.edf...\n",
      "EDF file detected\n",
      "Setting channel info structure...\n",
      "Creating raw.info structure...\n",
      "Total number of channels: 212\n",
      "Annotations descriptions: ['Seizure 7' 'EEG onset' 'Grimace' 'Moving' 'PatientEvent' 'PatientEvent'\n",
      " 'Smiling' 'EEG end' 'Sentinel - Acknowledged Patient Button'\n",
      " 'PatientEvent' 'PatientEvent' 'Sentinel - Acknowledged Patient Button'\n",
      " 'PatientEvent' 'Sentinel - Acknowledged Patient Button' 'Seizure 8'\n",
      " 'EEG onset' 'Clinical onset- mouth to left' 'Shaking' 'Stiffening' 'GTC'\n",
      " 'END' 'Sentinel - Stopped monitoring']\n"
     ]
    }
   ],
   "source": [
    "# Define the path to the EDF file\n",
    "edf_file_path = '<path_to_your_edf_file>'\n",
    "\n",
    "# Load the EDF file without preloading data to save memory\n",
    "raw_eeg_data = mne.io.read_raw_edf(edf_file_path, preload=False)\n",
    "\n",
    "# Access the annotations in the EDF file\n",
    "eeg_annotations = raw_eeg_data.annotations\n",
    "\n",
    "# Display basic information about the EEG data\n",
    "print(f\"Total number of channels: {raw_eeg_data.info['nchan']}\")\n",
    "print(f\"Annotations descriptions: {eeg_annotations.description}\")\n"
   ]
  },
  {
   "cell_type": "markdown",
   "id": "d7c28f36",
   "metadata": {},
   "source": [
    "## Extract Specific Annotations to EDF\n",
    "\n",
    "Extract 'smiling' annotations with a 10-second buffer and save to the 'smile_annotations' directory.\n",
    "\n",
    "When extracting annotations, the file names for the saved segments are automatically generated to include the buffer time, a prefix, the description of the annotation, and the annotation's occurrence number within the EEG file. This naming convention ensures that each file is uniquely identifiable and provides quick insight into the content and context of the data segment it contains. For example, a file named `10s_buffer_smiling_x_data.edf` indicates that the segment has a 10-second buffer, relates to a 'smiling' annotation, and corresponds to the x-th instance of such an annotation in the EDF file.\n"
   ]
  },
  {
   "cell_type": "code",
   "execution_count": 3,
   "id": "acfe8ecd",
   "metadata": {},
   "outputs": [
    {
     "name": "stdout",
     "output_type": "stream",
     "text": [
      "Annotation 7: Start: 4340.358553, Duration: 0.0, Description: Smiling\n"
     ]
    },
    {
     "data": {
      "text/plain": [
       "['./smile_annotations/10s_buffer_smiling_6_data.edf']"
      ]
     },
     "execution_count": 3,
     "metadata": {},
     "output_type": "execute_result"
    }
   ],
   "source": [
    "# Extract annotations related to 'smiling' and save them in a specified directory\n",
    "save_dir = '<path_to_your_directory>'\n",
    "eeg_util.extractAnnotationsToEDF(raw_eeg_data, eeg_annotations, description='smiling', buffer_secs=10, save_dir= save_dir)\n"
   ]
  },
  {
   "cell_type": "markdown",
   "id": "797bdb50",
   "metadata": {},
   "source": [
    "## Extracting a Specific segment to EDF\n",
    "\n",
    "Saving specific data segments for in-depth analysis is a common practice. Here, we specify a data segment by defining its beginning and ending time, then proceed to store this segment in an EDF format.\n"
   ]
  },
  {
   "cell_type": "code",
   "execution_count": 4,
   "id": "c04bafbb",
   "metadata": {},
   "outputs": [
    {
     "name": "stdout",
     "output_type": "stream",
     "text": [
      "Segment from 0.0 to 1633.0 saved to ./smile_annotations/segment.edf\n"
     ]
    }
   ],
   "source": [
    "# Define the start and end times for the segment to be saved\n",
    "segment_start_time = \"0\"\n",
    "segment_end_time = \"1633\"\n",
    "\n",
    "# Define the output file path for the saved segment\n",
    "segment_output_file = \"<path_to_output_directory>/segment.edf\"\n",
    "\n",
    "# Save the specified segment of the EEG data to an EDF file\n",
    "eeg_util.saveEDFSegment(raw_eeg_data, segment_start_time, segment_end_time, segment_output_file)\n"
   ]
  }
 ],
 "metadata": {
  "kernelspec": {
   "display_name": "Python 3",
   "language": "python",
   "name": "python3"
  },
  "language_info": {
   "codemirror_mode": {
    "name": "ipython",
    "version": 3
   },
   "file_extension": ".py",
   "mimetype": "text/x-python",
   "name": "python",
   "nbconvert_exporter": "python",
   "pygments_lexer": "ipython3",
   "version": "3.12.1"
  }
 },
 "nbformat": 4,
 "nbformat_minor": 5
}
